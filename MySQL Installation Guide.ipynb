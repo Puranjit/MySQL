{
 "cells": [
  {
   "cell_type": "markdown",
   "id": "70a2719f",
   "metadata": {},
   "source": [
    "# MySQL Installation Guide\n",
    "\n",
    "1. Search MySQL Community Server on google [link](https://dev.mysql.com/downloads/mysql/)\n",
    "2. Click on Go to Download Page >\n"
   ]
  },
  {
   "cell_type": "code",
   "execution_count": null,
   "id": "375da35a",
   "metadata": {},
   "outputs": [],
   "source": []
  }
 ],
 "metadata": {
  "kernelspec": {
   "display_name": "Python 3 (ipykernel)",
   "language": "python",
   "name": "python3"
  },
  "language_info": {
   "codemirror_mode": {
    "name": "ipython",
    "version": 3
   },
   "file_extension": ".py",
   "mimetype": "text/x-python",
   "name": "python",
   "nbconvert_exporter": "python",
   "pygments_lexer": "ipython3",
   "version": "3.8.8"
  }
 },
 "nbformat": 4,
 "nbformat_minor": 5
}
